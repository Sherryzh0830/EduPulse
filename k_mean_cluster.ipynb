{
  "nbformat": 4,
  "nbformat_minor": 0,
  "metadata": {
    "colab": {
      "provenance": []
    },
    "kernelspec": {
      "name": "python3",
      "display_name": "Python 3"
    },
    "language_info": {
      "name": "python"
    }
  },
  "cells": [
    {
      "cell_type": "code",
      "execution_count": 1,
      "metadata": {
        "id": "yJR4H5JVKF5a"
      },
      "outputs": [],
      "source": [
        "import numpy as np\n",
        "import pandas as pd\n",
        "import matplotlib.pyplot as plt\n",
        "%matplotlib inline\n",
        "import seaborn as sns\n",
        "import warnings\n",
        "warnings.filterwarnings('ignore')"
      ]
    },
    {
      "cell_type": "code",
      "source": [
        "from google.colab import drive\n",
        "drive.mount('/content/drive')"
      ],
      "metadata": {
        "id": "_kftP26cKXux",
        "outputId": "9273649b-89eb-4731-c71c-1b8f7bcd690f",
        "colab": {
          "base_uri": "https://localhost:8080/"
        }
      },
      "execution_count": 2,
      "outputs": [
        {
          "output_type": "stream",
          "name": "stdout",
          "text": [
            "Mounted at /content/drive\n"
          ]
        }
      ]
    },
    {
      "cell_type": "code",
      "source": [
        "df = pd.read_csv('/content/drive/MyDrive/utra hacks/Stress-Lysis.csv')"
      ],
      "metadata": {
        "id": "NoCO5Q8nKZUs"
      },
      "execution_count": 3,
      "outputs": []
    },
    {
      "cell_type": "code",
      "source": [
        "df.shape"
      ],
      "metadata": {
        "colab": {
          "base_uri": "https://localhost:8080/"
        },
        "id": "_9sLzcIKObt7",
        "outputId": "0d226e60-5bf8-4741-d4d9-4a5dccc61857"
      },
      "execution_count": 4,
      "outputs": [
        {
          "output_type": "execute_result",
          "data": {
            "text/plain": [
              "(2001, 4)"
            ]
          },
          "metadata": {},
          "execution_count": 4
        }
      ]
    },
    {
      "cell_type": "markdown",
      "source": [
        "**Check if dataset is balanced**"
      ],
      "metadata": {
        "id": "REyYkjAo3N51"
      }
    },
    {
      "cell_type": "code",
      "source": [
        "print('Proportion of Each Level of Stress')\n",
        "df['Stress Level'].value_counts().astype(float).apply(lambda x: x/df.shape[0])"
      ],
      "metadata": {
        "colab": {
          "base_uri": "https://localhost:8080/"
        },
        "id": "goCya5hYM2CM",
        "outputId": "a68dff14-d13a-443e-a186-1433237bea0d"
      },
      "execution_count": 5,
      "outputs": [
        {
          "output_type": "stream",
          "name": "stdout",
          "text": [
            "Proportion of Each Level of Stress\n"
          ]
        },
        {
          "output_type": "execute_result",
          "data": {
            "text/plain": [
              "1    0.394803\n",
              "2    0.354823\n",
              "0    0.250375\n",
              "Name: Stress Level, dtype: float64"
            ]
          },
          "metadata": {},
          "execution_count": 5
        }
      ]
    },
    {
      "cell_type": "code",
      "source": [
        "x1 = np.random.uniform(4, 8, [20,2])\n",
        "x2 = np.random.uniform(1, 3, [20,2])\n",
        "x3 = np. random.uniform(10, 14, [20, 2])"
      ],
      "metadata": {
        "id": "ONJ1testND5i"
      },
      "execution_count": 159,
      "outputs": []
    },
    {
      "cell_type": "code",
      "source": [
        "plt.scatter(x1[:, 0], x1[:, 1])\n",
        "plt.scatter(x2[:, 0], x2[:, 1])\n",
        "plt.scatter(x3[:, 0], x2[:, 1])\n",
        "plt.show()"
      ],
      "metadata": {
        "colab": {
          "base_uri": "https://localhost:8080/",
          "height": 430
        },
        "id": "0F0pL6BMD29l",
        "outputId": "09e7933c-4a08-4133-f011-790e447814ba"
      },
      "execution_count": 171,
      "outputs": [
        {
          "output_type": "display_data",
          "data": {
            "text/plain": [
              "<Figure size 640x480 with 1 Axes>"
            ],
            "image/png": "[encoded data removed]"
          },
          "metadata": {}
        }
      ]
    },
    {
      "cell_type": "code",
      "source": [
        "x = np.vstack((x1, x2, x3))\n",
        "plt.scatter(x[:,0], x[:,1])\n",
        "plt.show()\n",
        "x3"
      ],
      "metadata": {
        "colab": {
          "base_uri": "https://localhost:8080/",
          "height": 790
        },
        "id": "sN0HnFTVErg8",
        "outputId": "7f83cdb5-0ef6-47c1-b7f4-8ce66b9ef9cc"
      },
      "execution_count": 173,
      "outputs": [
        {
          "output_type": "display_data",
          "data": {
            "text/plain": [
              "<Figure size 640x480 with 1 Axes>"
            ],
            "image/png": "[encoded data removed]"
          },
          "metadata": {}
        },
        {
          "output_type": "execute_result",
          "data": {
            "text/plain": [
              "array([[12.13528255, 13.16892232],\n",
              "       [10.36702211, 10.74443331],\n",
              "       [12.87408096, 11.25097649],\n",
              "       [10.5661502 , 13.64928303],\n",
              "       [10.82712925, 12.32023071],\n",
              "       [10.7151966 , 10.43304526],\n",
              "       [10.77153412, 11.78173697],\n",
              "       [10.98065428, 10.22068183],\n",
              "       [13.83895044, 10.15379728],\n",
              "       [10.55843147, 12.01132684],\n",
              "       [11.86028024, 13.06720928],\n",
              "       [12.41111081, 13.51119585],\n",
              "       [13.58951217, 10.94170595],\n",
              "       [13.01063849, 11.07818445],\n",
              "       [12.91724265, 10.13256861],\n",
              "       [13.17704124, 11.62119197],\n",
              "       [13.43722922, 11.3079449 ],\n",
              "       [10.34437625, 10.54262296],\n",
              "       [12.82075328, 12.68900633],\n",
              "       [10.41696583, 10.61041823]])"
            ]
          },
          "metadata": {},
          "execution_count": 173
        }
      ]
    },
    {
      "cell_type": "code",
      "source": [
        "x.max()"
      ],
      "metadata": {
        "colab": {
          "base_uri": "https://localhost:8080/"
        },
        "id": "Yg1TLH-sIkge",
        "outputId": "e7dbdebf-5dd5-48fb-8225-fb71c48c45a2"
      },
      "execution_count": 81,
      "outputs": [
        {
          "output_type": "execute_result",
          "data": {
            "text/plain": [
              "13.757911683499326"
            ]
          },
          "metadata": {},
          "execution_count": 81
        }
      ]
    },
    {
      "cell_type": "code",
      "source": [
        "def k_mean(x, num_class, num_init, iter):\n",
        "\n",
        "    outputs = []\n",
        "\n",
        "    for initialization in range(num_init):\n",
        "        output = []\n",
        "        centroids = np.array(np.random.uniform(x.min(), x.max(), (num_class, x.shape[1])))\n",
        "        point_assign = [-1 for i in range(x.shape[0])]\n",
        "\n",
        "        for iteration in range(iter):\n",
        "            dist = np.array([[np.linalg.norm(centroid-data) for centroid in centroids] for data in x])\n",
        "\n",
        "            for data in range(x.shape[0]):\n",
        "                for cls in range(num_class):\n",
        "                    if point_assign[data] == -1:\n",
        "                        point_assign[data] = cls\n",
        "                    elif dist[data, cls] < dist[data, point_assign[data]]:\n",
        "                        point_assign[data] = cls\n",
        "\n",
        "            # plt.scatter(x[:,0], x[:,1])\n",
        "            # plt.scatter(centroids[:,0], centroids[:,1], color='cyan')\n",
        "            # plt.show()\n",
        "\n",
        "            new_centroids = np.zeros((num_class, x.shape[1]))\n",
        "\n",
        "            for i in range(len(point_assign)):\n",
        "                new_centroids[point_assign[i], :] += x[i,:]\n",
        "\n",
        "            for i in range(num_class):\n",
        "                new_centroids[i, :] /= point_assign.count(i)\n",
        "\n",
        "            new_centroids = np.array(new_centroids)\n",
        "            centroids = new_centroids.copy()\n",
        "\n",
        "        output.append(centroids)\n",
        "            # plt.scatter(x[:,0], x[:,1])\n",
        "            # plt.scatter(new_centroids[:,0], new_centroids[:,1], color='cyan')\n",
        "            # plt.show()\n",
        "\n",
        "        return output\n"
      ],
      "metadata": {
        "id": "v7hzYbSKGORV"
      },
      "execution_count": 27,
      "outputs": []
    },
    {
      "cell_type": "code",
      "source": [
        "k_mean(x, 3, 3, 5)"
      ],
      "metadata": {
        "colab": {
          "base_uri": "https://localhost:8080/"
        },
        "id": "zVxtBzrvJNMZ",
        "outputId": "77fe40c3-8b65-4b83-aa8c-449881498339"
      },
      "execution_count": 28,
      "outputs": [
        {
          "output_type": "execute_result",
          "data": {
            "text/plain": [
              "[array([[         nan,          nan,          nan],\n",
              "        [ 14.8965528 ,  83.8965528 ,  47.86231884],\n",
              "        [ 24.76321739,  93.76321739, 148.9352657 ]])]"
            ]
          },
          "metadata": {},
          "execution_count": 28
        }
      ]
    },
    {
      "cell_type": "code",
      "source": [],
      "metadata": {
        "id": "tLOgLNMlATn_"
      },
      "execution_count": null,
      "outputs": []
    }
  ]
}